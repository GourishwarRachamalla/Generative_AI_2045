{
  "nbformat": 4,
  "nbformat_minor": 0,
  "metadata": {
    "colab": {
      "provenance": [],
      "authorship_tag": "ABX9TyO2lCS4lAEsiURw8kUQB0WO",
      "include_colab_link": true
    },
    "kernelspec": {
      "name": "python3",
      "display_name": "Python 3"
    },
    "language_info": {
      "name": "python"
    }
  },
  "cells": [
    {
      "cell_type": "markdown",
      "metadata": {
        "id": "view-in-github",
        "colab_type": "text"
      },
      "source": [
        "<a href=\"https://colab.research.google.com/github/GourishwarRachamalla/Generative_AI_2045/blob/main/Gen_Ai_2045_A3.ipynb\" target=\"_parent\"><img src=\"https://colab.research.google.com/assets/colab-badge.svg\" alt=\"Open In Colab\"/></a>"
      ]
    },
    {
      "cell_type": "markdown",
      "source": [
        "1.)Write Python code without using any libraries to find the value of x at which the\n",
        "function f(x) shown in equation (1) has minimum value. Consider Gradient Descent Algorithm.\n",
        "f(x) = 5x4 + 3x2 + 10"
      ],
      "metadata": {
        "id": "wLyq-117Qg2Q"
      }
    },
    {
      "cell_type": "code",
      "execution_count": null,
      "metadata": {
        "colab": {
          "base_uri": "https://localhost:8080/"
        },
        "id": "bmQjEQoxP87V",
        "outputId": "b4d3827e-69c5-409d-933f-f43450a34baa"
      },
      "outputs": [
        {
          "output_type": "stream",
          "name": "stdout",
          "text": [
            "The value of x at which f(x) has minimum value: 0.74\n"
          ]
        }
      ],
      "source": [
        "def f(x):\n",
        "  return 5*x**4 + 3*x**2 + 10\n",
        "\n",
        "def df(x):\n",
        "  return 20*x**3 + 6*x\n",
        "\n",
        "def gradient_descent(learning_rate, iterations):\n",
        "  x = 1\n",
        "  for _ in range(iterations):\n",
        "    x = x - learning_rate * df(x)\n",
        "    return x\n",
        "\n",
        "\n",
        "learning_rate = 0.01\n",
        "iterations = 1000\n",
        "x_min = gradient_descent(learning_rate, iterations)\n",
        "print(\"The value of x at which f(x) has minimum value:\", x_min)"
      ]
    },
    {
      "cell_type": "markdown",
      "source": [
        "2).Write Python code without using any libraries to find the value of x and y at which the\n",
        "function g(x,y) shown in equation (2) has minimum value. Consider Gradient Descent Algorithm.\n",
        "f(x) = 3x2 + 5e−y + 10"
      ],
      "metadata": {
        "id": "vXilY4hKRI41"
      }
    },
    {
      "cell_type": "code",
      "source": [
        "import math\n",
        "\n",
        "def g(x, y):\n",
        "  return 3*x**2 + 5*math.exp(-y) + 10\n",
        "\n",
        "def dg_dx(x, y):\n",
        "  return 6*x\n",
        "\n",
        "def dg_dy(x, y):\n",
        "  return -5*math.exp(-y)\n",
        "\n",
        "def gradient_descent(learning_rate, iterations):\n",
        "  x, y = 1, 1\n",
        "  for _ in range(iterations):\n",
        "    x = x - learning_rate * dg_dx(x, y)\n",
        "    y = y - learning_rate * dg_dy(x, y)\n",
        "  return x, y\n",
        "\n",
        "\n",
        "learning_rate = 0.01\n",
        "iterations = 1000\n",
        "x_min, y_min = gradient_descent(learning_rate, iterations)\n",
        "print(\"The values of x and y at which g(x, y) has minimum value:\", x_min, y_min)"
      ],
      "metadata": {
        "colab": {
          "base_uri": "https://localhost:8080/"
        },
        "id": "Ih82z7qTROe7",
        "outputId": "24c536d0-c504-4ac3-88a1-afde0b345632"
      },
      "execution_count": null,
      "outputs": [
        {
          "output_type": "stream",
          "name": "stdout",
          "text": [
            "The values of x and y at which g(x, y) has minimum value: 1.3423123924933694e-27 3.9663707936306642\n"
          ]
        }
      ]
    },
    {
      "cell_type": "markdown",
      "source": [
        "3).Write Python code without using any libraries to find the value of x at which the\n",
        "sigmoid function z(x) shown in equation (3) has minimum value. Consider Gradient Descent\n",
        "Algorithm.\n",
        "z(x) =\n",
        "1\n",
        "1 + e−x"
      ],
      "metadata": {
        "id": "9zqLTaGwSKvc"
      }
    },
    {
      "cell_type": "code",
      "source": [
        "def z(x):\n",
        "  return 1 / (1 + math.exp(-x))\n",
        "\n",
        "def dz(x):\n",
        "  return z(x) * (1 - z(x))\n",
        "\n",
        "def gradient_descent(learning_rate, iterations):\n",
        "  x = 1\n",
        "  for _ in range(iterations):\n",
        "    x = x - learning_rate * dz(x)\n",
        "  return x\n",
        "learning_rate = 0.01\n",
        "iterations = 1000\n",
        "x_min = gradient_descent(learning_rate, iterations)\n",
        "print(\"The value of x at which z(x) has minimum value:\", x_min)"
      ],
      "metadata": {
        "colab": {
          "base_uri": "https://localhost:8080/"
        },
        "id": "3mZ87eVWSU83",
        "outputId": "98ddbe7c-c0e5-4fb3-f63a-ba3b206c9273"
      },
      "execution_count": null,
      "outputs": [
        {
          "output_type": "stream",
          "name": "stdout",
          "text": [
            "The value of x at which z(x) has minimum value: -1.2406923169023607\n"
          ]
        }
      ]
    },
    {
      "cell_type": "markdown",
      "source": [
        "4).Write Python code without using any libraries to find the value of optimal values of\n",
        "model parameters M and C such that the model’s Square Error Value shown in equation 4 will\n",
        "be minimum. It means model gives output close to expected output as shown in Figure 1\n",
        "![image.png](data:image/png;base64,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)"
      ],
      "metadata": {
        "id": "t4Kb9572S2k-"
      }
    },
    {
      "cell_type": "code",
      "source": [
        "def predict(M, C, x):\n",
        "  return M * x + C\n",
        "\n",
        "def square_error(expected_output, predicted_output):\n",
        "  return (expected_output - predicted_output)**2\n",
        "\n",
        "def gradient_descent(data, learning_rate, iterations):\n",
        "  M, C = 0, 0  # Initial guesses for M and C\n",
        "  for _ in range(iterations):\n",
        "    for x, expected_output in data:\n",
        "      predicted_output = predict(M, C, x)\n",
        "      error = square_error(expected_output, predicted_output)\n",
        "\n",
        "      # Update M and C using partial derivatives\n",
        "      dM = -2 * x * (expected_output - predicted_output)\n",
        "      dC = -2 * (expected_output - predicted_output)\n",
        "\n",
        "      M = M - learning_rate * dM\n",
        "      C = C - learning_rate * dC\n",
        "\n",
        "  return M, C\n",
        "\n",
        "# Example usage\n",
        "data = [(1, 2), (2, 3), (3, 5)]  # Sample data\n",
        "learning_rate = 0.01\n",
        "iterations = 1000\n",
        "M_optimal, C_optimal = gradient_descent(data, learning_rate, iterations)\n",
        "print(\"Optimal values of M and C:\", M_optimal, C_optimal)"
      ],
      "metadata": {
        "colab": {
          "base_uri": "https://localhost:8080/"
        },
        "id": "dBFihFWDTVHb",
        "outputId": "b7e5e29c-a758-4333-be82-7f01842ee28e"
      },
      "execution_count": 5,
      "outputs": [
        {
          "output_type": "stream",
          "name": "stdout",
          "text": [
            "Optimal values of M and C: 1.5175330644236207 0.30651029271275604\n"
          ]
        }
      ]
    }
  ]
}