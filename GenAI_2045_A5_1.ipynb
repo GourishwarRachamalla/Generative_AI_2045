{
  "nbformat": 4,
  "nbformat_minor": 0,
  "metadata": {
    "colab": {
      "provenance": [],
      "authorship_tag": "ABX9TyPcOfW9bnwTlGYoFjUH1dqP",
      "include_colab_link": true
    },
    "kernelspec": {
      "name": "python3",
      "display_name": "Python 3"
    },
    "language_info": {
      "name": "python"
    }
  },
  "cells": [
    {
      "cell_type": "markdown",
      "metadata": {
        "id": "view-in-github",
        "colab_type": "text"
      },
      "source": [
        "<a href=\"https://colab.research.google.com/github/GourishwarRachamalla/Generative_AI_2045/blob/main/GenAI_2045_A5_1.ipynb\" target=\"_parent\"><img src=\"https://colab.research.google.com/assets/colab-badge.svg\" alt=\"Open In Colab\"/></a>"
      ]
    },
    {
      "cell_type": "markdown",
      "source": [
        "1. ANN Architecture and Activation Functions"
      ],
      "metadata": {
        "id": "rkp156m1W1Lj"
      }
    },
    {
      "cell_type": "code",
      "source": [
        "import numpy as np\n",
        "\n",
        "def sigmoid(x):\n",
        "  return 1 / (1 + np.exp(-x))\n",
        "\n",
        "def linear(x):\n",
        "  return x\n",
        "\n",
        "# Define the ANN architecture\n",
        "input_size = 2  # Two input features (x1, x2)\n",
        "hidden_size = 3  # Number of neurons in the hidden layer\n",
        "output_size = 1  # Single output neuron\n",
        "\n",
        "# Initialize weights and biases randomly\n",
        "weights_input_hidden = np.random.rand(input_size, hidden_size)\n",
        "bias_hidden = np.random.rand(hidden_size)\n",
        "weights_hidden_output = np.random.rand(hidden_size, output_size)\n",
        "bias_output = np.random.rand(output_size)"
      ],
      "metadata": {
        "id": "RcWZUAslaJFM"
      },
      "execution_count": null,
      "outputs": []
    },
    {
      "cell_type": "markdown",
      "source": [
        "2. Backpropagation with Gradient Descent"
      ],
      "metadata": {
        "id": "XHdmNbpdaTFv"
      }
    },
    {
      "cell_type": "code",
      "source": [
        "def backpropagation(X, y, learning_rate, epochs):\n",
        "  global weights_input_hidden, bias_hidden, weights_hidden_output, bias_output\n",
        "  for epoch in range(epochs):\n",
        "\n",
        "    hidden_layer_input = np.dot(X, weights_input_hidden) + bias_hidden\n",
        "    hidden_layer_output = sigmoid(hidden_layer_input)\n",
        "    output_layer_input = np.dot(hidden_layer_output, weights_hidden_output) + bias_output\n",
        "    predicted_output = linear(output_layer_input)\n",
        "\n",
        "    error = y - predicted_output\n",
        "\n",
        "    d_predicted_output = 1\n",
        "    d_hidden_layer_output = hidden_layer_output * (1 - hidden_layer_output)\n",
        "\n",
        "    output_layer_error = error * d_predicted_output\n",
        "    d_weights_hidden_output = np.dot(hidden_layer_output.T, output_layer_error)\n",
        "    d_bias_output = np.sum(output_layer_error, axis=0)\n",
        "\n",
        "    hidden_layer_error = np.dot(output_layer_error, weights_hidden_output.T) * d_hidden_layer_output\n",
        "    d_weights_input_hidden = np.dot(X.T, hidden_layer_error)\n",
        "    d_bias_hidden = np.sum(hidden_layer_error, axis=0)\n",
        "\n",
        "    weights_hidden_output += learning_rate * d_weights_hidden_output\n",
        "    bias_output += learning_rate * d_bias_output\n",
        "    weights_input_hidden += learning_rate * d_weights_input_hidden\n",
        "    bias_hidden += learning_rate * d_bias_hidden\n",
        "\n",
        "  return predicted_output"
      ],
      "metadata": {
        "id": "jcedCi2XaaSX"
      },
      "execution_count": 2,
      "outputs": []
    },
    {
      "cell_type": "markdown",
      "source": [
        "3. Training and Testing"
      ],
      "metadata": {
        "id": "-bRN6brTarQu"
      }
    },
    {
      "cell_type": "code",
      "source": [
        "\n",
        "X_train = np.array([[0.1, 0.2], [0.2, 0.3], [0.3, 0.4], [0.6, 0.7], [0.7, 0.8], [0.8, 0.9]])\n",
        "y_train = np.array([[0.3432], [0.3490], [0.3548], [0.3720], [0.3776], [0.3832]])\n",
        "\n",
        "predicted_output = backpropagation(X_train, y_train, learning_rate=0.1, epochs=1000)\n",
        "\n",
        "X_test = np.array([[0.4, 0.5], [0.5, 0.6]])\n",
        "y_test = np.array([[0.3606], [0.3663]])\n",
        "\n",
        "hidden_layer_input_test = np.dot(X_test, weights_input_hidden) + bias_hidden\n",
        "hidden_layer_output_test = sigmoid(hidden_layer_input_test)\n",
        "output_layer_input_test = np.dot(hidden_layer_output_test, weights_hidden_output) + bias_output\n",
        "predicted_output_test = linear(output_layer_input_test)\n",
        "\n",
        "mse_train = np.mean((y_train - predicted_output)**2)\n",
        "mse_test = np.mean((y_test - predicted_output_test)**2)"
      ],
      "metadata": {
        "id": "p4NfzeIlcp0m"
      },
      "execution_count": 12,
      "outputs": []
    },
    {
      "cell_type": "code",
      "source": [
        "\n",
        "x1 = float(input(\"Enter x1: \"))\n",
        "x2 = float(input(\"Enter x2: \"))\n",
        "\n",
        "input_data = np.array([[x1, x2]])\n",
        "hidden_layer_input = np.dot(input_data, weights_input_hidden) + bias_hidden\n",
        "hidden_layer_output = sigmoid(hidden_layer_input)\n",
        "output_layer_input = np.dot(hidden_layer_output, weights_hidden_output) + bias_output\n",
        "prediction = linear(output_layer_input)\n",
        "\n",
        "print(\"Prediction:\", prediction[0][0])"
      ],
      "metadata": {
        "colab": {
          "base_uri": "https://localhost:8080/"
        },
        "id": "wPGXU_50bsgI",
        "outputId": "e5efc0de-9d3d-4a13-9d77-f689c1696282"
      },
      "execution_count": 14,
      "outputs": [
        {
          "output_type": "stream",
          "name": "stdout",
          "text": [
            "Enter x1: 0.4\n",
            "Enter x2: 0.5\n",
            "Prediction: 0.36203683331480874\n"
          ]
        }
      ]
    }
  ]
}