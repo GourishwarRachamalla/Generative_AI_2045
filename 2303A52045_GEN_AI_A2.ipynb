{
  "nbformat": 4,
  "nbformat_minor": 0,
  "metadata": {
    "colab": {
      "provenance": [],
      "authorship_tag": "ABX9TyOd/uyLWXFlxPwmp0hF9Y1w",
      "include_colab_link": true
    },
    "kernelspec": {
      "name": "python3",
      "display_name": "Python 3"
    },
    "language_info": {
      "name": "python"
    }
  },
  "cells": [
    {
      "cell_type": "markdown",
      "metadata": {
        "id": "view-in-github",
        "colab_type": "text"
      },
      "source": [
        "<a href=\"https://colab.research.google.com/github/GourishwarRachamalla/Generative_AI_2045/blob/main/2303A52045_GEN_AI_A2.ipynb\" target=\"_parent\"><img src=\"https://colab.research.google.com/assets/colab-badge.svg\" alt=\"Open In Colab\"/></a>"
      ]
    },
    {
      "cell_type": "markdown",
      "source": [
        "2.1)Consider a chocolate manufacturing company that produces onlyatwo\n",
        "types of chocolate i.e. A and B. Both the chocolates require Milk\n",
        "and Choco only.\n",
        "To manufacture each unit of A and B, the following quantitiesaare\n",
        "required:\n",
        "Each unit of A requires 1 unit of Milk and 3 units of Choco\n",
        "Each unit of B requires 1 unit of Milk and 2 units of Choco\n",
        "The company kitchen has a total of 5 units of Milk and 12 units of\n",
        "Choco. On each sale, the company makes a profit of Rs 6 per\n",
        "sold and Rs 5 per unit B sold.\n",
        "Now, the company wishes to maximize its profit. How many units of\n",
        "A and B should it produce respectively?\n",
        "\n",
        "argt A"
      ],
      "metadata": {
        "id": "9irVcPhXUqiK"
      }
    },
    {
      "cell_type": "code",
      "source": [
        "\n",
        "from scipy.optimize import linprog\n",
        "\n",
        "# Define the objective function coefficients (maximize profit)\n",
        "# Profit per unit of A = 6, profit per unit of B = 5profit = [-6, -5]  # Negative because linprog minimizes by default\n",
        "profit = [-6, -5]\n",
        "# Define the constraints\n",
        "# 1. Milk constraint: 1xA + 1xB <= 5\n",
        "# 2. Choco constraint: 3xA + 2xB <= 12\n",
        "constraints = [\n",
        "    [1, 1],  # Milk constraint coefficients\n",
        "    [3, 2]   # Choco constraint coefficients\n",
        "]\n",
        "bounds = [5, 12]  # Right-hand side of constraints\n",
        "\n",
        "# Define bounds for the variables (non-negativity constraints)\n",
        "variable_bounds = [(0, None), (0, None)]  # A >= 0, B >= 0\n",
        "\n",
        "# Solve the problem\n",
        "\n",
        "result = linprog(c=profit, A_ub=constraints, b_ub=bounds, bounds=variable_bounds, method=\"highs\")\n",
        "\n",
        "# Display the results\n",
        "if result.success:\n",
        "  print(\"Optimal Production:\")\n",
        "  print(f\"Chocolate A: {result.x[0]:.2f} units\")\n",
        "  print(f\"Chocolate B: {result.x[1]:.2f} units\")\n",
        "  print(f\"Maximum Profit: {-result.fun:.2f}\")\n",
        "else:\n",
        "    print(\"No optimal solution found.\")\n",
        "\n",
        "\n",
        "\n"
      ],
      "metadata": {
        "colab": {
          "base_uri": "https://localhost:8080/"
        },
        "id": "raxnDjK4McZs",
        "outputId": "8c05615e-8fb6-453f-d5e3-97e7b35303b9"
      },
      "execution_count": 4,
      "outputs": [
        {
          "output_type": "stream",
          "name": "stdout",
          "text": [
            "Optimal Production:\n",
            "Chocolate A: 2.00 units\n",
            "Chocolate B: 3.00 units\n",
            "Maximum Profit: 27.00\n"
          ]
        }
      ]
    },
    {
      "cell_type": "markdown",
      "source": [
        "2.2)Cost (Rs/Hec)\n",
        "7000\n",
        "2000\n",
        "\n",
        "Profit (Price/Hec)\n",
        "50\n",
        "120\n",
        "\n",
        "A farmer has recently acquired a 110 hectares piece of land. He has\n",
        "decided to grow Wheat and barley on that land. Due to the quality\n",
        "of the sun and the region's excellent climate, the entire producigh of\n",
        "Wheat and Barley can be sold. He wants to know how to plang each\n",
        "variety in the 110 hectares, given the costs, net profits and labor\n",
        "requirements according to the data shown below:\n",
        "\n",
        "Crop\n",
        "Wheat\n",
        "Barley\n",
        "\n",
        "The farmer has a budget of Rs. 7,00,000 and availability of 1,200\n",
        "man-days during the planning horizon. Find the optimal solution anth\n",
        "the optimal value.\n",
        "\n",
        "Man-days/Hec\n",
        "10\n",
        "30\n",
        "\n",
        "aonana Veefamsetty"
      ],
      "metadata": {
        "id": "Meei47_ROlUT"
      }
    },
    {
      "cell_type": "code",
      "source": [
        "from scipy.optimize import linprog\n",
        "\n",
        "# Define the objective function coefficients (maximize profit)\n",
        "# Profit per hectare for Wheat = 50, for Barley = 120\n",
        "profit = [-50, -120]  # Negative for maximization\n",
        "\n",
        "# Define the constraints\n",
        "# 1. Land constraint: x1 + x2 <= 110\n",
        "# 2. Budget constraint: 7000x1 + 2000x2 <= 700000\n",
        "# 3. Labor constraint: 10x1 + 30x2 <= 1200\n",
        "constraints = [\n",
        "    [1, 1],         # Land constraint coefficients\n",
        "    [7000, 2000],   # Budget constraint coefficients\n",
        "    [10, 30]        # Labor constraint coefficients\n",
        "]\n",
        "bounds = [110, 700000, 1200]  # Right-hand side of constraints\n",
        "\n",
        "            # Define bounds for the variables (non-negativity constraints)\n",
        "variable_bounds = [(0, None), (0, None)]  # x1 >= 0, x2 >= 0\n",
        "\n",
        "            # Solve the problem using the 'highs' method\n",
        "result = linprog(c=profit, A_ub=constraints, b_ub=bounds, bounds=variable_bounds, method=\"highs\")\n",
        "\n",
        "            # Display the results\n",
        "if result.success:\n",
        "  print(\"Optimal Area Allocation:\")\n",
        "  print(f\"Wheat (x1): {result.x[0]:.2f}\")\n",
        "  print(f\"Barley (x2): {result.x[1]:.2f}\")\n",
        "  print(f\"Maximum Profit: {-result.fun:.2f}\")\n",
        "else:\n",
        "  print(\"Optimization failed.\")"
      ],
      "metadata": {
        "colab": {
          "base_uri": "https://localhost:8080/"
        },
        "id": "ovDtvld2RVJ_",
        "outputId": "e51525b4-339d-4e75-b1a3-3430c2c8da9d"
      },
      "execution_count": 7,
      "outputs": [
        {
          "output_type": "stream",
          "name": "stdout",
          "text": [
            "Optimal Area Allocation:\n",
            "Wheat (x1): 97.89\n",
            "Barley (x2): 7.37\n",
            "Maximum Profit: 5778.95\n"
          ]
        }
      ]
    }
  ]
}